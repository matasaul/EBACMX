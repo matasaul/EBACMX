{
 "cells": [
  {
   "cell_type": "code",
   "execution_count": 4,
   "id": "4ada0056-0fe5-4e0d-acdd-703be9cfb87d",
   "metadata": {},
   "outputs": [
    {
     "name": "stdout",
     "output_type": "stream",
     "text": [
      "bienvenido al curso phyton\n"
     ]
    }
   ],
   "source": [
    "print('bienvenido al curso phyton')"
   ]
  },
  {
   "cell_type": "code",
   "execution_count": 5,
   "id": "1b598222-9a41-4f6e-8665-ff8a336c87fc",
   "metadata": {},
   "outputs": [
    {
     "name": "stdout",
     "output_type": "stream",
     "text": [
      "123\n"
     ]
    }
   ],
   "source": [
    "print(123)"
   ]
  },
  {
   "cell_type": "code",
   "execution_count": 6,
   "id": "105f69f5-34bb-4cd6-8d5f-ff861f045d22",
   "metadata": {},
   "outputs": [],
   "source": [
    "x=10.5\n",
    "y=20"
   ]
  },
  {
   "cell_type": "code",
   "execution_count": 7,
   "id": "3e4752f7-ed80-4aa5-b88d-ad42eca08c09",
   "metadata": {},
   "outputs": [
    {
     "name": "stdout",
     "output_type": "stream",
     "text": [
      "10.5\n"
     ]
    }
   ],
   "source": [
    "print(x)"
   ]
  },
  {
   "cell_type": "code",
   "execution_count": 8,
   "id": "812b1f2a-e73a-45e9-a58f-a57637c5ad44",
   "metadata": {},
   "outputs": [
    {
     "name": "stdout",
     "output_type": "stream",
     "text": [
      "20\n"
     ]
    }
   ],
   "source": [
    "print(y)"
   ]
  },
  {
   "cell_type": "code",
   "execution_count": 9,
   "id": "6d866294-fc68-4433-91a9-197fe66df03c",
   "metadata": {},
   "outputs": [
    {
     "name": "stdout",
     "output_type": "stream",
     "text": [
      "el valor de x es 10.5\n"
     ]
    }
   ],
   "source": [
    "print(\"el valor de x es\",x)"
   ]
  },
  {
   "cell_type": "code",
   "execution_count": 10,
   "id": "971e28f5-fca9-4a50-8501-5a1ff50be78a",
   "metadata": {},
   "outputs": [],
   "source": [
    "z=x+y"
   ]
  },
  {
   "cell_type": "code",
   "execution_count": 11,
   "id": "2e7173a6-849b-47fd-a5d2-ef1d6e186f02",
   "metadata": {},
   "outputs": [
    {
     "name": "stdout",
     "output_type": "stream",
     "text": [
      "el resultado de z es 30.5\n"
     ]
    }
   ],
   "source": [
    "print(\"el resultado de z es\",z)"
   ]
  },
  {
   "cell_type": "code",
   "execution_count": null,
   "id": "4e4451e5-5352-4eb5-8e80-1c43b4dbc018",
   "metadata": {},
   "outputs": [],
   "source": []
  }
 ],
 "metadata": {
  "kernelspec": {
   "display_name": "Python [conda env:base] *",
   "language": "python",
   "name": "conda-base-py"
  },
  "language_info": {
   "codemirror_mode": {
    "name": "ipython",
    "version": 3
   },
   "file_extension": ".py",
   "mimetype": "text/x-python",
   "name": "python",
   "nbconvert_exporter": "python",
   "pygments_lexer": "ipython3",
   "version": "3.13.5"
  }
 },
 "nbformat": 4,
 "nbformat_minor": 5
}
